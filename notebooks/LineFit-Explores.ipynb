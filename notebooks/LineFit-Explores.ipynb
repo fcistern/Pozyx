{
 "cells": [
  {
   "cell_type": "code",
   "execution_count": 1,
   "metadata": {},
   "outputs": [],
   "source": [
    "%matplotlib inline\n",
    "\n",
    "import numpy as np\n",
    "import matplotlib.pyplot as plt\n",
    "\n",
    "from numpy import polyfit"
   ]
  },
  {
   "cell_type": "code",
   "execution_count": 2,
   "metadata": {},
   "outputs": [],
   "source": [
    "# Simulate some example data\n",
    "xs = np.arange(0, 10, 0.1)\n",
    "ys = np.arange(0, 10, 0.1)\n",
    "\n",
    "# Add an outlier\n",
    "ys[10] = 6"
   ]
  },
  {
   "cell_type": "code",
   "execution_count": 3,
   "metadata": {},
   "outputs": [
    {
     "data": {
      "text/plain": [
       "[<matplotlib.lines.Line2D at 0x10dad5b70>]"
      ]
     },
     "execution_count": 3,
     "metadata": {},
     "output_type": "execute_result"
    },
    {
     "data": {
      "image/png": "[encoded data removed]",
      "text/plain": [
       "<Figure size 432x288 with 1 Axes>"
      ]
     },
     "metadata": {
      "needs_background": "light"
     },
     "output_type": "display_data"
    }
   ],
   "source": [
    "# Check out our data\n",
    "plt.plot(xs, ys, '.')"
   ]
  },
  {
   "cell_type": "code",
   "execution_count": 4,
   "metadata": {},
   "outputs": [],
   "source": [
    "# First models to the data: 1st & 2nd degree polynomial\n",
    "#     1st degree: y = a1 * x + a2\n",
    "#     2nd degree: y = a1 * x^2 + a2 * x + a3\n",
    "ps = polyfit(xs, ys, 1)\n",
    "ps2 = polyfit(xs, ys, 2)"
   ]
  },
  {
   "cell_type": "code",
   "execution_count": 5,
   "metadata": {},
   "outputs": [],
   "source": [
    "# Construct the model fit lines\n",
    "lin_line = ps[0] * xs + ps[1]\n",
    "quad_line = ps2[0] * xs**2 + ps2[1] * xs + ps2[2]"
   ]
  },
  {
   "cell_type": "code",
   "execution_count": 6,
   "metadata": {},
   "outputs": [
    {
     "data": {
      "text/plain": [
       "<matplotlib.legend.Legend at 0x10db44080>"
      ]
     },
     "execution_count": 6,
     "metadata": {},
     "output_type": "execute_result"
    },
    {
     "data": {
      "image/png": "[encoded data removed]",
      "text/plain": [
       "<Figure size 432x288 with 1 Axes>"
      ]
     },
     "metadata": {
      "needs_background": "light"
     },
     "output_type": "display_data"
    }
   ],
   "source": [
    "# Plot the data with the different model fits\n",
    "plt.plot(xs, ys, '.', ms=6, label='data')\n",
    "plt.plot(xs, lin_line, lw=2, label='lin-fit')\n",
    "plt.plot(xs, quad_line, lw=2, label='quad-fit')\n",
    "plt.legend()"
   ]
  },
  {
   "cell_type": "markdown",
   "metadata": {},
   "source": [
    "## Calculate R^2"
   ]
  },
  {
   "cell_type": "code",
   "execution_count": 16,
   "metadata": {},
   "outputs": [],
   "source": [
    "lin_r_val = np.corrcoef(ys, lin_line)[0][1] ** 2\n",
    "quad_r_val = np.corrcoef(ys, quad_line)[0][1] ** 2"
   ]
  },
  {
   "cell_type": "code",
   "execution_count": 21,
   "metadata": {},
   "outputs": [
    {
     "name": "stdout",
     "output_type": "stream",
     "text": [
      "Linear model fit R^2: \t\t 0.9703\n",
      "Quadratic model fit R^2: \t 0.9706\n"
     ]
    }
   ],
   "source": [
    "print('Linear model fit R^2: \\t\\t {:1.4f}'.format(lin_r_val))\n",
    "print('Quadratic model fit R^2: \\t {:1.4f}'.format(quad_r_val))"
   ]
  },
  {
   "cell_type": "markdown",
   "metadata": {},
   "source": [
    "## Calculat Model Fit Error"
   ]
  },
  {
   "cell_type": "code",
   "execution_count": 22,
   "metadata": {},
   "outputs": [],
   "source": [
    "lin_err = np.sqrt((ys - lin_line) ** 2).mean()\n",
    "quad_err = np.sqrt((ys - quad_line) ** 2).mean()"
   ]
  },
  {
   "cell_type": "code",
   "execution_count": 23,
   "metadata": {
    "scrolled": true
   },
   "outputs": [
    {
     "name": "stdout",
     "output_type": "stream",
     "text": [
      "Linear model fit Error: \t 0.1169\n",
      "Quadratic model fit Error: \t 0.1100\n"
     ]
    }
   ],
   "source": [
    "print('Linear model fit Error: \\t {:1.4f}'.format(lin_err))\n",
    "print('Quadratic model fit Error: \\t {:1.4f}'.format(quad_err))"
   ]
  }
 ],
 "metadata": {
  "kernelspec": {
   "display_name": "Python 3",
   "language": "python",
   "name": "python3"
  },
  "language_info": {
   "codemirror_mode": {
    "name": "ipython",
    "version": 3
   },
   "file_extension": ".py",
   "mimetype": "text/x-python",
   "name": "python",
   "nbconvert_exporter": "python",
   "pygments_lexer": "ipython3",
   "version": "3.7.3"
  }
 },
 "nbformat": 4,
 "nbformat_minor": 2
}
