{
 "cells": [
  {
   "cell_type": "markdown",
   "metadata": {},
   "source": [
    "# TITLE"
   ]
  },
  {
   "cell_type": "code",
   "execution_count": 1,
   "metadata": {},
   "outputs": [],
   "source": [
    "import os\n",
    "\n",
    "# Import local code\n",
    "import sys\n",
    "sys.path.append('/'.join(sys.path[0].split('/')[0:-1]) + '/module/')\n",
    "\n",
    "from utils import *"
   ]
  },
  {
   "cell_type": "markdown",
   "metadata": {},
   "source": [
    "## Settings"
   ]
  },
  {
   "cell_type": "code",
   "execution_count": 2,
   "metadata": {},
   "outputs": [],
   "source": [
    "subj_ind = 5"
   ]
  },
  {
   "cell_type": "markdown",
   "metadata": {},
   "source": [
    "## Loading data"
   ]
  },
  {
   "cell_type": "code",
   "execution_count": 3,
   "metadata": {},
   "outputs": [],
   "source": [
    "# Create the path to the data (assume the Github repo, but works on any computer)\n",
    "dat_path = os.getcwd().replace('notebooks', 'data')\n",
    "# Note: this also works, but looks like nonsense. \n",
    "#dat_path = '/'.join(os.getcwd().split('/')[0:-1]) + '/data/'"
   ]
  },
  {
   "cell_type": "code",
   "execution_count": 4,
   "metadata": {},
   "outputs": [],
   "source": [
    "# Check all data files\n",
    "all_files = os.listdir(dat_path)\n",
    "subj_files = [file for file in all_files if 'subj' in file]\n",
    "\n",
    "# Create full subj data path\n",
    "subj_dat_path = os.path.join(dat_path, subj_files[subj_ind])"
   ]
  },
  {
   "cell_type": "code",
   "execution_count": 5,
   "metadata": {},
   "outputs": [],
   "source": [
    "# Load the data\n",
    "df = load_posyx_file(subj_dat_path)"
   ]
  },
  {
   "cell_type": "code",
   "execution_count": 7,
   "metadata": {},
   "outputs": [
    {
     "data": {
      "text/html": [
       "<div>\n",
       "<style scoped>\n",
       "    .dataframe tbody tr th:only-of-type {\n",
       "        vertical-align: middle;\n",
       "    }\n",
       "\n",
       "    .dataframe tbody tr th {\n",
       "        vertical-align: top;\n",
       "    }\n",
       "\n",
       "    .dataframe thead th {\n",
       "        text-align: right;\n",
       "    }\n",
       "</style>\n",
       "<table border=\"1\" class=\"dataframe\">\n",
       "  <thead>\n",
       "    <tr style=\"text-align: right;\">\n",
       "      <th></th>\n",
       "      <th>tagId</th>\n",
       "      <th>timestamp</th>\n",
       "      <th>x</th>\n",
       "      <th>y</th>\n",
       "      <th>z</th>\n",
       "      <th>latency</th>\n",
       "    </tr>\n",
       "  </thead>\n",
       "  <tbody>\n",
       "    <tr>\n",
       "      <th>0</th>\n",
       "      <td>26382</td>\n",
       "      <td>2019-05-22 01:47:10.051000118</td>\n",
       "      <td>4293.0</td>\n",
       "      <td>4618.0</td>\n",
       "      <td>0.0</td>\n",
       "      <td>77.8</td>\n",
       "    </tr>\n",
       "    <tr>\n",
       "      <th>1</th>\n",
       "      <td>26457</td>\n",
       "      <td>2019-05-22 01:47:10.134000063</td>\n",
       "      <td>7739.0</td>\n",
       "      <td>7942.0</td>\n",
       "      <td>0.0</td>\n",
       "      <td>73.9</td>\n",
       "    </tr>\n",
       "    <tr>\n",
       "      <th>2</th>\n",
       "      <td>26382</td>\n",
       "      <td>2019-05-22 01:47:10.216000080</td>\n",
       "      <td>4312.0</td>\n",
       "      <td>4457.0</td>\n",
       "      <td>0.0</td>\n",
       "      <td>81.8</td>\n",
       "    </tr>\n",
       "    <tr>\n",
       "      <th>3</th>\n",
       "      <td>26457</td>\n",
       "      <td>2019-05-22 01:47:10.308000088</td>\n",
       "      <td>7750.0</td>\n",
       "      <td>7959.0</td>\n",
       "      <td>0.0</td>\n",
       "      <td>68.5</td>\n",
       "    </tr>\n",
       "    <tr>\n",
       "      <th>4</th>\n",
       "      <td>26382</td>\n",
       "      <td>2019-05-22 01:47:10.414000034</td>\n",
       "      <td>4412.0</td>\n",
       "      <td>4268.0</td>\n",
       "      <td>0.0</td>\n",
       "      <td>78.6</td>\n",
       "    </tr>\n",
       "  </tbody>\n",
       "</table>\n",
       "</div>"
      ],
      "text/plain": [
       "   tagId                     timestamp       x       y    z  latency\n",
       "0  26382 2019-05-22 01:47:10.051000118  4293.0  4618.0  0.0     77.8\n",
       "1  26457 2019-05-22 01:47:10.134000063  7739.0  7942.0  0.0     73.9\n",
       "2  26382 2019-05-22 01:47:10.216000080  4312.0  4457.0  0.0     81.8\n",
       "3  26457 2019-05-22 01:47:10.308000088  7750.0  7959.0  0.0     68.5\n",
       "4  26382 2019-05-22 01:47:10.414000034  4412.0  4268.0  0.0     78.6"
      ]
     },
     "execution_count": 7,
     "metadata": {},
     "output_type": "execute_result"
    }
   ],
   "source": [
    "df.head()"
   ]
  },
  {
   "cell_type": "code",
   "execution_count": null,
   "metadata": {},
   "outputs": [],
   "source": []
  }
 ],
 "metadata": {
  "kernelspec": {
   "display_name": "Python 3",
   "language": "python",
   "name": "python3"
  },
  "language_info": {
   "codemirror_mode": {
    "name": "ipython",
    "version": 3
   },
   "file_extension": ".py",
   "mimetype": "text/x-python",
   "name": "python",
   "nbconvert_exporter": "python",
   "pygments_lexer": "ipython3",
   "version": "3.7.3"
  }
 },
 "nbformat": 4,
 "nbformat_minor": 2
}
