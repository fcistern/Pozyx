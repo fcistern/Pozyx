{
 "cells": [
  {
   "cell_type": "markdown",
   "metadata": {},
   "source": [
    "# Pozyx Data - Quick Explorations\n",
    "\n",
    "Some explorations, building off what's in DataTransform."
   ]
  },
  {
   "cell_type": "code",
   "execution_count": 1,
   "metadata": {},
   "outputs": [],
   "source": [
    "%matplotlib inline\n",
    "\n",
    "import json\n",
    "import time\n",
    "from IPython import display\n",
    "\n",
    "import numpy as np\n",
    "import pandas as pd\n",
    "from pandas.io.json import json_normalize\n",
    "import matplotlib.pyplot as plt\n",
    "from scipy.signal import medfilt"
   ]
  },
  {
   "cell_type": "markdown",
   "metadata": {},
   "source": [
    "## Data Loading "
   ]
  },
  {
   "cell_type": "code",
   "execution_count": 2,
   "metadata": {},
   "outputs": [],
   "source": [
    "def load_posyx_file(f_name):\n",
    "    \"\"\"Helper function to load data.\"\"\"\n",
    "    \n",
    "    # Update this list to specify which columns you want to keep\n",
    "    keep_cols = ['tagId', 'timestamp', 'x', 'y', 'z', 'latency']\n",
    "\n",
    "    # Load the data\n",
    "    df = pd.read_json(f_name, lines=True, orient='records')\n",
    "\n",
    "    # Grab the data column, unpack and add all the embedded jsons\n",
    "    data_df = pd.read_json(df.pop('data').to_json(), orient='index')\n",
    "    for col in ['coordinates', 'metrics', 'orientation']:\n",
    "        temp = pd.read_json(data_df[col].to_json(), orient='index')\n",
    "        df = pd.concat([df, temp], axis=1, join_axes=[df.index])\n",
    "        \n",
    "    # Select columns to return\n",
    "    df = df[keep_cols]\n",
    "\n",
    "    return df"
   ]
  },
  {
   "cell_type": "code",
   "execution_count": 3,
   "metadata": {},
   "outputs": [],
   "source": [
    "# Load a test data file\n",
    "df = load_posyx_file('pilot_3_3.json')"
   ]
  },
  {
   "cell_type": "markdown",
   "metadata": {},
   "source": [
    "## Check Tags"
   ]
  },
  {
   "cell_type": "code",
   "execution_count": 4,
   "metadata": {},
   "outputs": [
    {
     "name": "stdout",
     "output_type": "stream",
     "text": [
      "There are 2 tags\n",
      "The tag IDs are: 26395\n"
     ]
    }
   ],
   "source": [
    "# Check how many tags there are, and their IDs\n",
    "tags = set(df['tagId'].values)\n",
    "print('There are {} tags'.format(len(tags)))\n",
    "print('The tag IDs are: {}'.format(*tags))"
   ]
  },
  {
   "cell_type": "code",
   "execution_count": 5,
   "metadata": {},
   "outputs": [],
   "source": [
    "# Use a dictionary to label tags\n",
    "tag_dict = {'participant' : 26395, \n",
    "            'confederate' : 26382}"
   ]
  },
  {
   "cell_type": "code",
   "execution_count": 6,
   "metadata": {},
   "outputs": [
    {
     "name": "stdout",
     "output_type": "stream",
     "text": [
      "participant\n",
      "   tagId                     timestamp       x       y    z  latency\n",
      "1  26395 2018-10-30 20:36:46.437000036  2217.0  -866.0  0.0     46.7\n",
      "3  26395 2018-10-30 20:36:46.562999964  2218.0  -810.0  0.0     44.7\n",
      "5  26395 2018-10-30 20:36:46.671999931  2271.0  -864.0  0.0     43.7\n",
      "7  26395 2018-10-30 20:36:46.766000032  2195.0 -1169.0  0.0     45.8\n",
      "9  26395 2018-10-30 20:36:46.884000063  2226.0 -1106.0  0.0     50.3\n",
      "\n",
      "\n",
      "confederate\n",
      "   tagId                     timestamp       x      y    z  latency\n",
      "0  26382 2018-10-30 20:36:46.380000114  3123.0   71.0  0.0     48.4\n",
      "2  26382 2018-10-30 20:36:46.512000083  3103.0  116.0  0.0     45.6\n",
      "4  26382 2018-10-30 20:36:46.611000061  3129.0  126.0  0.0     44.7\n",
      "6  26382 2018-10-30 20:36:46.719000101  3200.0    4.0  0.0     44.9\n",
      "8  26382 2018-10-30 20:36:46.815000057  3141.0  123.0  0.0     51.7\n",
      "\n",
      "\n"
     ]
    }
   ],
   "source": [
    "# Example: Use the lab dictionary to loop through the raw data, and grab data from a specific tag\n",
    "for person in tag_dict.keys():\n",
    "    print(person)\n",
    "    print(df[df['tagId'] == tag_dict[person]].head())\n",
    "    print('\\n')"
   ]
  },
  {
   "cell_type": "code",
   "execution_count": 7,
   "metadata": {},
   "outputs": [],
   "source": [
    "# Here, use the dictionary to manage the data, creating a dictionary of data for each tag\n",
    "tag_data = {}\n",
    "for tag_name, tag_id in tag_dict.items():\n",
    "    tag_data[tag_name] = df[df['tagId'] == tag_id]"
   ]
  },
  {
   "cell_type": "code",
   "execution_count": 8,
   "metadata": {},
   "outputs": [
    {
     "name": "stdout",
     "output_type": "stream",
     "text": [
      "participant\n",
      "   tagId                     timestamp       x       y    z  latency\n",
      "1  26395 2018-10-30 20:36:46.437000036  2217.0  -866.0  0.0     46.7\n",
      "3  26395 2018-10-30 20:36:46.562999964  2218.0  -810.0  0.0     44.7\n",
      "5  26395 2018-10-30 20:36:46.671999931  2271.0  -864.0  0.0     43.7\n",
      "7  26395 2018-10-30 20:36:46.766000032  2195.0 -1169.0  0.0     45.8\n",
      "9  26395 2018-10-30 20:36:46.884000063  2226.0 -1106.0  0.0     50.3\n",
      "\n",
      "\n",
      "confederate\n",
      "   tagId                     timestamp       x      y    z  latency\n",
      "0  26382 2018-10-30 20:36:46.380000114  3123.0   71.0  0.0     48.4\n",
      "2  26382 2018-10-30 20:36:46.512000083  3103.0  116.0  0.0     45.6\n",
      "4  26382 2018-10-30 20:36:46.611000061  3129.0  126.0  0.0     44.7\n",
      "6  26382 2018-10-30 20:36:46.719000101  3200.0    4.0  0.0     44.9\n",
      "8  26382 2018-10-30 20:36:46.815000057  3141.0  123.0  0.0     51.7\n",
      "\n",
      "\n"
     ]
    }
   ],
   "source": [
    "# Check the dictionary of data, per tag\n",
    "for name, data in tag_data.items():\n",
    "    print(name)\n",
    "    print(data.head())\n",
    "    print('\\n')"
   ]
  },
  {
   "cell_type": "code",
   "execution_count": 9,
   "metadata": {},
   "outputs": [
    {
     "data": {
      "text/plain": [
       "{'participant'}"
      ]
     },
     "execution_count": 9,
     "metadata": {},
     "output_type": "execute_result"
    }
   ],
   "source": [
    "# Note: sets are a useful data structure for \n",
    "{'confederate', 'participant'} - {'confederate'}"
   ]
  },
  {
   "cell_type": "code",
   "execution_count": 10,
   "metadata": {},
   "outputs": [],
   "source": [
    "# Distance formula (note: copied from data transform)\n",
    "import math\n",
    "\n",
    "def distance(x1, y1, x2, y2):\n",
    "    \n",
    "    dist_x = x1 - x2\n",
    "    dist_y = y1 - y2\n",
    "    \n",
    "    distance = math.sqrt(dist_x**2 + dist_y**2)\n",
    "    \n",
    "    return distance"
   ]
  },
  {
   "cell_type": "code",
   "execution_count": 19,
   "metadata": {},
   "outputs": [
    {
     "name": "stdout",
     "output_type": "stream",
     "text": [
      "Current tag: participant\n",
      "\tDistance of participant to confederate is \t1303.3821388986423\n",
      "\tDistance of participant to confederate is \t1280.898512763599\n",
      "\tDistance of participant to confederate is \t1310.0625939244278\n",
      "\tDistance of participant to confederate is \t1544.6533591715652\n",
      "\tDistance of participant to confederate is \t1532.2095156994685\n"
     ]
    },
    {
     "name": "stderr",
     "output_type": "stream",
     "text": [
      "/anaconda3/lib/python3.7/site-packages/ipykernel_launcher.py:31: SettingWithCopyWarning: \n",
      "A value is trying to be set on a copy of a slice from a DataFrame.\n",
      "Try using .loc[row_indexer,col_indexer] = value instead\n",
      "\n",
      "See the caveats in the documentation: http://pandas.pydata.org/pandas-docs/stable/indexing.html#indexing-view-versus-copy\n"
     ]
    },
    {
     "name": "stdout",
     "output_type": "stream",
     "text": [
      "\n",
      "\n",
      "Current tag: confederate\n",
      "\tDistance of confederate to participant is \t1303.3821388986423\n",
      "\tDistance of confederate to participant is \t1280.898512763599\n",
      "\tDistance of confederate to participant is \t1310.0625939244278\n",
      "\tDistance of confederate to participant is \t1544.6533591715652\n",
      "\tDistance of confederate to participant is \t1532.2095156994685\n",
      "\n",
      "\n"
     ]
    }
   ],
   "source": [
    "# Get a set of all tag names\n",
    "tag_names = set(tag_dict.keys())\n",
    "\n",
    "#all_dists = {name : [] for name in tag_names}\n",
    "\n",
    "# Loop through each tag\n",
    "for name, data in tag_data.items():\n",
    "    \n",
    "    print('Current tag: {}'.format(name))\n",
    "    \n",
    "    # Get a set of all other tags\n",
    "    other_tags = tag_names - set([name])\n",
    "    \n",
    "    # Loop across other tags\n",
    "    for other_tag in other_tags:\n",
    "        \n",
    "        temp = []\n",
    "        \n",
    "        # This is one way to loop across dataframes for each tag together\n",
    "        for (i1, row1), (i2, row2) in zip(tag_data[name].iterrows(), tag_data[other_tag].iterrows()):\n",
    "            \n",
    "            # Calculate the distance of the current tag, to the current other tag\n",
    "            dist = distance(*row1[['x', 'y']], *row2[['x', 'y']])\n",
    "            \n",
    "            # This is just to cut off printing after a few rows\n",
    "            if i1 < 10:\n",
    "                print('\\tDistance of {} to {} is \\t{}'.format(name, other_tag, dist))\n",
    "                \n",
    "            temp.append(dist)\n",
    "        \n",
    "        tag_data[name]['DistTo'+other_tag] = temp\n",
    "    \n",
    "    print('\\n')"
   ]
  },
  {
   "cell_type": "markdown",
   "metadata": {},
   "source": [
    "## Exploring Time Stamps"
   ]
  },
  {
   "cell_type": "code",
   "execution_count": 20,
   "metadata": {},
   "outputs": [
    {
     "name": "stdout",
     "output_type": "stream",
     "text": [
      "-56999922 nanoseconds\n"
     ]
    }
   ],
   "source": [
    "# Note: manipulating time stamps\n",
    "d1 = df.timestamp.values[0]\n",
    "d2 = df.timestamp.values[1]\n",
    "\n",
    "print(d1 - d2)"
   ]
  },
  {
   "cell_type": "markdown",
   "metadata": {},
   "source": [
    "## Median Filter to Smooth Distance Data"
   ]
  },
  {
   "cell_type": "code",
   "execution_count": 21,
   "metadata": {},
   "outputs": [
    {
     "data": {
      "text/plain": [
       "[<matplotlib.lines.Line2D at 0x11098fc18>]"
      ]
     },
     "execution_count": 21,
     "metadata": {},
     "output_type": "execute_result"
    },
    {
     "data": {
      "image/png": "[encoded data removed]",
      "text/plain": [
       "<Figure size 432x288 with 1 Axes>"
      ]
     },
     "metadata": {
      "needs_background": "light"
     },
     "output_type": "display_data"
    }
   ],
   "source": [
    "plt.plot(tag_data['confederate']['timestamp'], tag_data['confederate']['DistToparticipant'])"
   ]
  },
  {
   "cell_type": "code",
   "execution_count": 22,
   "metadata": {},
   "outputs": [
    {
     "data": {
      "text/plain": [
       "[<matplotlib.lines.Line2D at 0x1234c0d30>]"
      ]
     },
     "execution_count": 22,
     "metadata": {},
     "output_type": "execute_result"
    },
    {
     "data": {
      "image/png": "[encoded data removed]",
      "text/plain": [
       "<Figure size 432x288 with 1 Axes>"
      ]
     },
     "metadata": {
      "needs_background": "light"
     },
     "output_type": "display_data"
    }
   ],
   "source": [
    "plt.plot(tag_data['confederate']['timestamp'],\n",
    "         medfilt(tag_data['confederate']['DistToparticipant'], kernel_size=51))"
   ]
  },
  {
   "cell_type": "markdown",
   "metadata": {},
   "source": [
    "## NOTE: check / explore animations to play movement data over time\n",
    "\n",
    "This doesn't seem to be working as it - but there should be some ways to animate data / plots over time."
   ]
  },
  {
   "cell_type": "code",
   "execution_count": 15,
   "metadata": {},
   "outputs": [],
   "source": [
    "# ## Example animation: plot data across time\n",
    "\n",
    "# d1 = [1, 1, 1, 1]\n",
    "# d2 = [1, 2, 3, 4]\n",
    "\n",
    "# for dd, ee in zip(d1, d2):\n",
    "    \n",
    "#     plt.figure()\n",
    "#     plt.plot(dd, ee, '.')\n",
    "#     plt.xlim(1, 4); plt.ylim(1, 4);\n",
    "#     display.display(plt.gcf())\n",
    "#     time.sleep(1)\n",
    "#     display.clear_output(True)\n",
    "#     #plt.show()"
   ]
  }
 ],
 "metadata": {
  "kernelspec": {
   "display_name": "Python 3",
   "language": "python",
   "name": "python3"
  },
  "language_info": {
   "codemirror_mode": {
    "name": "ipython",
    "version": 3
   },
   "file_extension": ".py",
   "mimetype": "text/x-python",
   "name": "python",
   "nbconvert_exporter": "python",
   "pygments_lexer": "ipython3",
   "version": "3.7.3"
  }
 },
 "nbformat": 4,
 "nbformat_minor": 2
}
